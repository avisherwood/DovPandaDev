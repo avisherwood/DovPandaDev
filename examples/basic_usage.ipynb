{
 "cells": [
  {
   "cell_type": "markdown",
   "metadata": {},
   "source": [
    "# Introducing dovpanda\n",
    "dovpanda is your friend. It is an overlay for pandas that helps you write a more concise `pandas` code.  \n",
    "It's easy to start, just import it."
   ]
  },
  {
   "cell_type": "code",
   "execution_count": 1,
   "metadata": {},
   "outputs": [],
   "source": [
    "import pandas as pd\n",
    "import dovpanda"
   ]
  },
  {
   "cell_type": "markdown",
   "metadata": {},
   "source": [
    "# The Task\n",
    "My friends and i went bear-spotting in the wild. We each had a timer and paper where we wrote the timestamp of the bear sighting, and the kind of a bear. I want to count how many bears we've seen.\n"
   ]
  },
  {
   "cell_type": "markdown",
   "metadata": {},
   "source": [
    "## Reading a DataFrame\n",
    "Let's view one file."
   ]
  },
  {
   "cell_type": "code",
   "execution_count": 2,
   "metadata": {},
   "outputs": [
    {
     "data": {
      "text/html": [
       "\n",
       "        <div class=\"alert alert-info\" role=\"alert\">\n",
       "          <img src=\"data:image/png;base64,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\" alt=\"logo\" style=\"float:left; margin-right:10px\">\n",
       "          Your left most column is unnamed. This suggets it might be the index column, try: <code>pd.read_csv('data/bear_sightings_dean.csv', index_col=0)</code>\n",
       "          <button type=\"button\" class=\"close\" data-dismiss=\"alert\" aria-label=\"Close\">\n",
       "            <span aria-hidden=\"true\">&times;</span>\n",
       "          </button>\n",
       "          <div style=\"font-size:0.7em;\">Line 1: <code>sightings = pd.read_csv('data/bear_sightings_dean.csv')</code> </div>\n",
       "\n",
       "        </div>\n",
       "        "
      ],
      "text/plain": [
       "===== Your left most column is unnamed. This suggets it might be the index column, try: pd.read_csv('data/bear_sightings_dean.csv', index_col=0) ===== (Line 1)"
      ]
     },
     "metadata": {},
     "output_type": "display_data"
    },
    {
     "data": {
      "text/html": [
       "\n",
       "        <div class=\"alert alert-info\" role=\"alert\">\n",
       "          <img src=\"data:image/png;base64,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\" alt=\"logo\" style=\"float:left; margin-right:10px\">\n",
       "          Dataframe has 95 rows. Column <code>bear</code> has only 4 values which suggests it's a categorical feature.<br>After df is created, Consider converting it to categorical by using <code>df['bear'] = df['bear'].astype('category')</code>\n",
       "          <button type=\"button\" class=\"close\" data-dismiss=\"alert\" aria-label=\"Close\">\n",
       "            <span aria-hidden=\"true\">&times;</span>\n",
       "          </button>\n",
       "          <div style=\"font-size:0.7em;\">Line 1: <code>sightings = pd.read_csv('data/bear_sightings_dean.csv')</code> </div>\n",
       "\n",
       "        </div>\n",
       "        "
      ],
      "text/plain": [
       "===== Dataframe has 95 rows. Column bear has only 4 values which suggests it's a categorical feature.\n",
       "After df is created, Consider converting it to categorical by using df['bear'] = df['bear'].astype('category') ===== (Line 1)"
      ]
     },
     "metadata": {},
     "output_type": "display_data"
    },
    {
     "data": {
      "text/html": [
       "\n",
       "        <div class=\"alert alert-info\" role=\"alert\">\n",
       "          <img src=\"data:image/png;base64,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\" alt=\"logo\" style=\"float:left; margin-right:10px\">\n",
       "          columns 'timestamp' looks like a datetime but the type is 'object' Consider using<br><code>df['timestamp'] = pd.to_datetime(df.timestamp)</code>\n",
       "          <button type=\"button\" class=\"close\" data-dismiss=\"alert\" aria-label=\"Close\">\n",
       "            <span aria-hidden=\"true\">&times;</span>\n",
       "          </button>\n",
       "          <div style=\"font-size:0.7em;\">Line 1: <code>sightings = pd.read_csv('data/bear_sightings_dean.csv')</code> </div>\n",
       "\n",
       "        </div>\n",
       "        "
      ],
      "text/plain": [
       "===== columns 'timestamp' looks like a datetime but the type is 'object' Consider using\n",
       "df['timestamp'] = pd.to_datetime(df.timestamp) ===== (Line 1)"
      ]
     },
     "metadata": {},
     "output_type": "display_data"
    },
    {
     "data": {
      "text/html": [
       "<div>\n",
       "<style scoped>\n",
       "    .dataframe tbody tr th:only-of-type {\n",
       "        vertical-align: middle;\n",
       "    }\n",
       "\n",
       "    .dataframe tbody tr th {\n",
       "        vertical-align: top;\n",
       "    }\n",
       "\n",
       "    .dataframe thead th {\n",
       "        text-align: right;\n",
       "    }\n",
       "</style>\n",
       "<table border=\"1\" class=\"dataframe\">\n",
       "  <thead>\n",
       "    <tr style=\"text-align: right;\">\n",
       "      <th></th>\n",
       "      <th>Unnamed: 0</th>\n",
       "      <th>bear</th>\n",
       "      <th>timestamp</th>\n",
       "    </tr>\n",
       "  </thead>\n",
       "  <tbody>\n",
       "    <tr>\n",
       "      <th>0</th>\n",
       "      <td>0</td>\n",
       "      <td>Black Bear</td>\n",
       "      <td>2019-05-21 14:50:44</td>\n",
       "    </tr>\n",
       "    <tr>\n",
       "      <th>1</th>\n",
       "      <td>1</td>\n",
       "      <td>Polar Bear</td>\n",
       "      <td>2019-05-21 15:29:22</td>\n",
       "    </tr>\n",
       "    <tr>\n",
       "      <th>2</th>\n",
       "      <td>2</td>\n",
       "      <td>Black Bear</td>\n",
       "      <td>2019-05-21 18:58:08</td>\n",
       "    </tr>\n",
       "    <tr>\n",
       "      <th>3</th>\n",
       "      <td>3</td>\n",
       "      <td>Black Bear</td>\n",
       "      <td>2019-05-21 17:32:31</td>\n",
       "    </tr>\n",
       "    <tr>\n",
       "      <th>4</th>\n",
       "      <td>4</td>\n",
       "      <td>Giant Panda</td>\n",
       "      <td>2019-05-21 18:01:38</td>\n",
       "    </tr>\n",
       "    <tr>\n",
       "      <th>...</th>\n",
       "      <td>...</td>\n",
       "      <td>...</td>\n",
       "      <td>...</td>\n",
       "    </tr>\n",
       "    <tr>\n",
       "      <th>90</th>\n",
       "      <td>90</td>\n",
       "      <td>Grizzly</td>\n",
       "      <td>2019-05-21 14:06:00</td>\n",
       "    </tr>\n",
       "    <tr>\n",
       "      <th>91</th>\n",
       "      <td>91</td>\n",
       "      <td>Polar Bear</td>\n",
       "      <td>2019-05-21 14:27:42</td>\n",
       "    </tr>\n",
       "    <tr>\n",
       "      <th>92</th>\n",
       "      <td>92</td>\n",
       "      <td>Black Bear</td>\n",
       "      <td>2019-05-21 15:34:13</td>\n",
       "    </tr>\n",
       "    <tr>\n",
       "      <th>93</th>\n",
       "      <td>93</td>\n",
       "      <td>Grizzly</td>\n",
       "      <td>2019-05-21 18:37:13</td>\n",
       "    </tr>\n",
       "    <tr>\n",
       "      <th>94</th>\n",
       "      <td>94</td>\n",
       "      <td>Black Bear</td>\n",
       "      <td>2019-05-21 14:49:45</td>\n",
       "    </tr>\n",
       "  </tbody>\n",
       "</table>\n",
       "<p>95 rows × 3 columns</p>\n",
       "</div>"
      ],
      "text/plain": [
       "    Unnamed: 0         bear            timestamp\n",
       "0            0   Black Bear  2019-05-21 14:50:44\n",
       "1            1   Polar Bear  2019-05-21 15:29:22\n",
       "2            2   Black Bear  2019-05-21 18:58:08\n",
       "3            3   Black Bear  2019-05-21 17:32:31\n",
       "4            4  Giant Panda  2019-05-21 18:01:38\n",
       "..         ...          ...                  ...\n",
       "90          90      Grizzly  2019-05-21 14:06:00\n",
       "91          91   Polar Bear  2019-05-21 14:27:42\n",
       "92          92   Black Bear  2019-05-21 15:34:13\n",
       "93          93      Grizzly  2019-05-21 18:37:13\n",
       "94          94   Black Bear  2019-05-21 14:49:45\n",
       "\n",
       "[95 rows x 3 columns]"
      ]
     },
     "execution_count": 2,
     "metadata": {},
     "output_type": "execute_result"
    }
   ],
   "source": [
    "sightings = pd.read_csv('data/bear_sightings_dean.csv')\n",
    "sightings"
   ]
  },
  {
   "cell_type": "markdown",
   "metadata": {},
   "source": [
    "Hey! That's new! The dovpanda is giving us hints. That's cool!  \n",
    "Let's try using them."
   ]
  },
  {
   "cell_type": "code",
   "execution_count": 3,
   "metadata": {},
   "outputs": [
    {
     "data": {
      "text/html": [
       "\n",
       "        <div class=\"alert alert-info\" role=\"alert\">\n",
       "          <img src=\"data:image/png;base64,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\" alt=\"logo\" style=\"float:left; margin-right:10px\">\n",
       "          Dataframe has 95 rows. Column <code>bear</code> has only 4 values which suggests it's a categorical feature.<br>After df is created, Consider converting it to categorical by using <code>df['bear'] = df['bear'].astype('category')</code>\n",
       "          <button type=\"button\" class=\"close\" data-dismiss=\"alert\" aria-label=\"Close\">\n",
       "            <span aria-hidden=\"true\">&times;</span>\n",
       "          </button>\n",
       "          <div style=\"font-size:0.7em;\">Line 1: <code>sightings = pd.read_csv('data/bear_sightings_dean.csv', index_col=0)</code> </div>\n",
       "\n",
       "        </div>\n",
       "        "
      ],
      "text/plain": [
       "===== Dataframe has 95 rows. Column bear has only 4 values which suggests it's a categorical feature.\n",
       "After df is created, Consider converting it to categorical by using df['bear'] = df['bear'].astype('category') ===== (Line 1)"
      ]
     },
     "metadata": {},
     "output_type": "display_data"
    },
    {
     "data": {
      "text/html": [
       "\n",
       "        <div class=\"alert alert-info\" role=\"alert\">\n",
       "          <img src=\"data:image/png;base64,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\" alt=\"logo\" style=\"float:left; margin-right:10px\">\n",
       "          columns 'timestamp' looks like a datetime but the type is 'object' Consider using<br><code>df['timestamp'] = pd.to_datetime(df.timestamp)</code>\n",
       "          <button type=\"button\" class=\"close\" data-dismiss=\"alert\" aria-label=\"Close\">\n",
       "            <span aria-hidden=\"true\">&times;</span>\n",
       "          </button>\n",
       "          <div style=\"font-size:0.7em;\">Line 1: <code>sightings = pd.read_csv('data/bear_sightings_dean.csv', index_col=0)</code> </div>\n",
       "\n",
       "        </div>\n",
       "        "
      ],
      "text/plain": [
       "===== columns 'timestamp' looks like a datetime but the type is 'object' Consider using\n",
       "df['timestamp'] = pd.to_datetime(df.timestamp) ===== (Line 1)"
      ]
     },
     "metadata": {},
     "output_type": "display_data"
    },
    {
     "data": {
      "text/html": [
       "<div>\n",
       "<style scoped>\n",
       "    .dataframe tbody tr th:only-of-type {\n",
       "        vertical-align: middle;\n",
       "    }\n",
       "\n",
       "    .dataframe tbody tr th {\n",
       "        vertical-align: top;\n",
       "    }\n",
       "\n",
       "    .dataframe thead th {\n",
       "        text-align: right;\n",
       "    }\n",
       "</style>\n",
       "<table border=\"1\" class=\"dataframe\">\n",
       "  <thead>\n",
       "    <tr style=\"text-align: right;\">\n",
       "      <th></th>\n",
       "      <th>bear</th>\n",
       "      <th>timestamp</th>\n",
       "    </tr>\n",
       "  </thead>\n",
       "  <tbody>\n",
       "    <tr>\n",
       "      <th>0</th>\n",
       "      <td>Black Bear</td>\n",
       "      <td>2019-05-21 14:50:44</td>\n",
       "    </tr>\n",
       "    <tr>\n",
       "      <th>1</th>\n",
       "      <td>Polar Bear</td>\n",
       "      <td>2019-05-21 15:29:22</td>\n",
       "    </tr>\n",
       "    <tr>\n",
       "      <th>2</th>\n",
       "      <td>Black Bear</td>\n",
       "      <td>2019-05-21 18:58:08</td>\n",
       "    </tr>\n",
       "    <tr>\n",
       "      <th>3</th>\n",
       "      <td>Black Bear</td>\n",
       "      <td>2019-05-21 17:32:31</td>\n",
       "    </tr>\n",
       "    <tr>\n",
       "      <th>4</th>\n",
       "      <td>Giant Panda</td>\n",
       "      <td>2019-05-21 18:01:38</td>\n",
       "    </tr>\n",
       "    <tr>\n",
       "      <th>...</th>\n",
       "      <td>...</td>\n",
       "      <td>...</td>\n",
       "    </tr>\n",
       "    <tr>\n",
       "      <th>90</th>\n",
       "      <td>Grizzly</td>\n",
       "      <td>2019-05-21 14:06:00</td>\n",
       "    </tr>\n",
       "    <tr>\n",
       "      <th>91</th>\n",
       "      <td>Polar Bear</td>\n",
       "      <td>2019-05-21 14:27:42</td>\n",
       "    </tr>\n",
       "    <tr>\n",
       "      <th>92</th>\n",
       "      <td>Black Bear</td>\n",
       "      <td>2019-05-21 15:34:13</td>\n",
       "    </tr>\n",
       "    <tr>\n",
       "      <th>93</th>\n",
       "      <td>Grizzly</td>\n",
       "      <td>2019-05-21 18:37:13</td>\n",
       "    </tr>\n",
       "    <tr>\n",
       "      <th>94</th>\n",
       "      <td>Black Bear</td>\n",
       "      <td>2019-05-21 14:49:45</td>\n",
       "    </tr>\n",
       "  </tbody>\n",
       "</table>\n",
       "<p>95 rows × 2 columns</p>\n",
       "</div>"
      ],
      "text/plain": [
       "           bear           timestamp\n",
       "0    Black Bear 2019-05-21 14:50:44\n",
       "1    Polar Bear 2019-05-21 15:29:22\n",
       "2    Black Bear 2019-05-21 18:58:08\n",
       "3    Black Bear 2019-05-21 17:32:31\n",
       "4   Giant Panda 2019-05-21 18:01:38\n",
       "..          ...                 ...\n",
       "90      Grizzly 2019-05-21 14:06:00\n",
       "91   Polar Bear 2019-05-21 14:27:42\n",
       "92   Black Bear 2019-05-21 15:34:13\n",
       "93      Grizzly 2019-05-21 18:37:13\n",
       "94   Black Bear 2019-05-21 14:49:45\n",
       "\n",
       "[95 rows x 2 columns]"
      ]
     },
     "execution_count": 3,
     "metadata": {},
     "output_type": "execute_result"
    }
   ],
   "source": [
    "sightings = pd.read_csv('data/bear_sightings_dean.csv', index_col=0)\n",
    "sightings['bear'] = sightings['bear'].astype('category')\n",
    "sightings['timestamp'] = pd.to_datetime(sightings.timestamp)\n",
    "sightings"
   ]
  },
  {
   "cell_type": "markdown",
   "metadata": {},
   "source": [
    "Awesome. dovpanda still tells us those hints because (currently) it can't look into the future, but our dataframe is much better to work with."
   ]
  },
  {
   "cell_type": "code",
   "execution_count": 4,
   "metadata": {},
   "outputs": [
    {
     "data": {
      "text/plain": [
       "bear               category\n",
       "timestamp    datetime64[ns]\n",
       "dtype: object"
      ]
     },
     "execution_count": 4,
     "metadata": {},
     "output_type": "execute_result"
    }
   ],
   "source": [
    "sightings.dtypes"
   ]
  },
  {
   "cell_type": "markdown",
   "metadata": {},
   "source": [
    "## Combining DataFrames\n",
    "Well, now I want to combine the sightings of all of my friends. Their csvs are in the data folder"
   ]
  },
  {
   "cell_type": "code",
   "execution_count": 5,
   "metadata": {},
   "outputs": [
    {
     "data": {
      "text/plain": [
       "['bear_sightings_gal.csv',\n",
       " 'bear_sightings_inbal.csv',\n",
       " 'bear_sightings_adi.csv',\n",
       " 'bear_sightings_dean.csv']"
      ]
     },
     "execution_count": 5,
     "metadata": {},
     "output_type": "execute_result"
    }
   ],
   "source": [
    "import os\n",
    "os.listdir('data')"
   ]
  },
  {
   "cell_type": "code",
   "execution_count": 7,
   "metadata": {},
   "outputs": [
    {
     "data": {
      "text/html": [
       "\n",
       "        <div class=\"alert alert-info\" role=\"alert\">\n",
       "          <img src=\"data:image/png;base64,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\" alt=\"logo\" style=\"float:left; margin-right:10px\">\n",
       "          dont append or concat dfs iteratively. it is a better practice to first create a list of dfs. and then <code>pd.concat(list_of_dfs)</code> in one go\n",
       "          <button type=\"button\" class=\"close\" data-dismiss=\"alert\" aria-label=\"Close\">\n",
       "            <span aria-hidden=\"true\">&times;</span>\n",
       "          </button>\n",
       "          <div style=\"font-size:0.7em;\">Line 7: <code>all_sightings = all_sightings.append(sightings)</code> </div>\n",
       "\n",
       "        </div>\n",
       "        "
      ],
      "text/plain": [
       "===== dont append or concat dfs iteratively. it is a better practice to first create a list of dfs. and then pd.concat(list_of_dfs) in one go ===== (Line 7)"
      ]
     },
     "metadata": {},
     "output_type": "display_data"
    }
   ],
   "source": [
    "all_sightings = pd.DataFrame()\n",
    "for person_file in os.listdir('data'):\n",
    "    with dovpanda.mute():\n",
    "        sightings = pd.read_csv(f'data/{person_file}')\n",
    "    sightings['bear'] = sightings['bear'].astype('category')\n",
    "    sightings['timestamp'] = pd.to_datetime(sightings.timestamp)\n",
    "    all_sightings = all_sightings.append(sightings)"
   ]
  },
  {
   "cell_type": "markdown",
   "metadata": {},
   "source": [
    "* Appending frames in a loop is not the best says pandas.\n",
    "* Also, dovpanda is smart enough to not spam too much. It shows the hints for reading the file once, eventhough we've read 4 files.\n",
    "* Have you noticed we have muted dovpanda temporarily?"
   ]
  },
  {
   "cell_type": "markdown",
   "metadata": {},
   "source": [
    "### Temporary Mute\n",
    "We want to read all the csvs, but the specific `read_csv` hist is kind of annoying. Let's mute it."
   ]
  },
  {
   "cell_type": "code",
   "execution_count": 8,
   "metadata": {},
   "outputs": [],
   "source": [
    "sightings_list = []\n",
    "with dovpanda.mute():\n",
    "    for person_file in os.listdir('data'):\n",
    "        sightings = pd.read_csv(f'data/{person_file}', index_col=0)\n",
    "        sightings['bear'] = sightings['bear'].astype('category')\n",
    "        sightings['timestamp'] = pd.to_datetime(sightings.timestamp)\n",
    "        sightings_list.append(sightings)"
   ]
  },
  {
   "cell_type": "markdown",
   "metadata": {},
   "source": [
    "Let's go back to the task and listen to dovpanda"
   ]
  },
  {
   "cell_type": "code",
   "execution_count": 9,
   "metadata": {},
   "outputs": [
    {
     "data": {
      "text/html": [
       "\n",
       "        <div class=\"alert alert-info\" role=\"alert\">\n",
       "          <img src=\"data:image/png;base64,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\" alt=\"logo\" style=\"float:left; margin-right:10px\">\n",
       "          All dataframes have the same columns, which hints for concat on axis 0.You specified <code>axis=1</code> which may result in an unwanted behaviour\n",
       "          <button type=\"button\" class=\"close\" data-dismiss=\"alert\" aria-label=\"Close\">\n",
       "            <span aria-hidden=\"true\">&times;</span>\n",
       "          </button>\n",
       "          <div style=\"font-size:0.7em;\">Line 1: <code>sightings = pd.concat(sightings_list,axis=1)</code> </div>\n",
       "\n",
       "        </div>\n",
       "        "
      ],
      "text/plain": [
       "===== All dataframes have the same columns, which hints for concat on axis 0.You specified axis=1 which may result in an unwanted behaviour ===== (Line 1)"
      ]
     },
     "metadata": {},
     "output_type": "display_data"
    },
    {
     "data": {
      "text/html": [
       "\n",
       "        <div class=\"alert alert-info\" role=\"alert\">\n",
       "          <img src=\"data:image/png;base64,iVBORw0KGgoAAAANSUhEUgAAACMAAAAjCAYAAAAe2bNZAAAACXBIWXMAAAsTAAALEwEAmpwYAAAF9GlUWHRYTUw6Y29tLmFkb2JlLnhtcAAAAAAAPD94cGFja2V0IGJlZ2luPSLvu78iIGlkPSJXNU0wTXBDZWhpSHpyZVN6TlRjemtjOWQiPz4gPHg6eG1wbWV0YSB4bWxuczp4PSJhZG9iZTpuczptZXRhLyIgeDp4bXB0az0iQWRvYmUgWE1QIENvcmUgNS42LWMxNDUgNzkuMTYzNDk5LCAyMDE4LzA4LzEzLTE2OjQwOjIyICAgICAgICAiPiA8cmRmOlJERiB4bWxuczpyZGY9Imh0dHA6Ly93d3cudzMub3JnLzE5OTkvMDIvMjItcmRmLXN5bnRheC1ucyMiPiA8cmRmOkRlc2NyaXB0aW9uIHJkZjphYm91dD0iIiB4bWxuczp4bXA9Imh0dHA6Ly9ucy5hZG9iZS5jb20veGFwLzEuMC8iIHhtbG5zOmRjPSJodHRwOi8vcHVybC5vcmcvZGMvZWxlbWVudHMvMS4xLyIgeG1sbnM6cGhvdG9zaG9wPSJodHRwOi8vbnMuYWRvYmUuY29tL3Bob3Rvc2hvcC8xLjAvIiB4bWxuczp4bXBNTT0iaHR0cDovL25zLmFkb2JlLmNvbS94YXAvMS4wL21tLyIgeG1sbnM6c3RFdnQ9Imh0dHA6Ly9ucy5hZG9iZS5jb20veGFwLzEuMC9zVHlwZS9SZXNvdXJjZUV2ZW50IyIgeG1wOkNyZWF0b3JUb29sPSJBZG9iZSBQaG90b3Nob3AgQ0MgMjAxOSAoV2luZG93cykiIHhtcDpDcmVhdGVEYXRlPSIyMDE5LTEwLTI2VDExOjI2KzAzOjAwIiB4bXA6TW9kaWZ5RGF0ZT0iMjAxOS0xMS0wOVQxMjo0MDo1MCswMjowMCIgeG1wOk1ldGFkYXRhRGF0ZT0iMjAxOS0xMS0wOVQxMjo0MDo1MCswMjowMCIgZGM6Zm9ybWF0PSJpbWFnZS9wbmciIHBob3Rvc2hvcDpDb2xvck1vZGU9IjMiIHBob3Rvc2hvcDpJQ0NQcm9maWxlPSJzUkdCIElFQzYxOTY2LTIuMSIgeG1wTU06SW5zdGFuY2VJRD0ieG1wLmlpZDo0YjVlMWMxZC1iMGNmLTk0NDctOTRiMy1lZTU1YmI2NjJmYTciIHhtcE1NOkRvY3VtZW50SUQ9ImFkb2JlOmRvY2lkOnBob3Rvc2hvcDo3MTcyNGRkOC1kMzM3LTVhNDQtOWQ3OS1iMzNlZWY3OTkzNzciIHhtcE1NOk9yaWdpbmFsRG9jdW1lbnRJRD0ieG1wLmRpZDpmMjYyNGQ0My04YzlhLWNhNDAtYTM4NC00OTViOGY1NzUwMDAiPiA8eG1wTU06SGlzdG9yeT4gPHJkZjpTZXE+IDxyZGY6bGkgc3RFdnQ6YWN0aW9uPSJjcmVhdGVkIiBzdEV2dDppbnN0YW5jZUlEPSJ4bXAuaWlkOmYyNjI0ZDQzLThjOWEtY2E0MC1hMzg0LTQ5NWI4ZjU3NTAwMCIgc3RFdnQ6d2hlbj0iMjAxOS0xMC0yNlQxMToyNiswMzowMCIgc3RFdnQ6c29mdHdhcmVBZ2VudD0iQWRvYmUgUGhvdG9zaG9wIENDIDIwMTkgKFdpbmRvd3MpIi8+IDxyZGY6bGkgc3RFdnQ6YWN0aW9uPSJzYXZlZCIgc3RFdnQ6aW5zdGFuY2VJRD0ieG1wLmlpZDo0YjVlMWMxZC1iMGNmLTk0NDctOTRiMy1lZTU1YmI2NjJmYTciIHN0RXZ0OndoZW49IjIwMTktMTEtMDlUMTI6NDA6NTArMDI6MDAiIHN0RXZ0OnNvZnR3YXJlQWdlbnQ9IkFkb2JlIFBob3Rvc2hvcCBDQyAyMDE5IChXaW5kb3dzKSIgc3RFdnQ6Y2hhbmdlZD0iLyIvPiA8L3JkZjpTZXE+IDwveG1wTU06SGlzdG9yeT4gPC9yZGY6RGVzY3JpcHRpb24+IDwvcmRmOlJERj4gPC94OnhtcG1ldGE+IDw/eHBhY2tldCBlbmQ9InIiPz42QQkHAAAIgElEQVRYhb2XbVBTVxrH/7mB3BAhVcyG8CaEWkhRfEMh1FJIKSjbwhrWKupg3fVlZFCrZb8g9f0LC9opCw4r+8EWK11nRdZaxZAZcBHCCgpRQQsaTNDRQEhCkCghyT37YQ2jJqjtqP+Z++Wc//Oc33Puc8+9l7Vt2zZQFIVLly7h8aNHaSMPH+b19fUlAmCJw8NbORzv0nXr/qSYOXMmKioq0NHRgdmzZyM8XIzm5mYkJyfBx8cHVqsVLS0tkCZIodPp0HW9C/Pnz0dubi5u376No0ePLrE7HF9qtdoEAHg3IqLJz8+v3MeHp5RKpWAYBl6EEHC5XLAp9jb11auleEp3tNp0AOlt7e35A4OD3wwODoJhGAwNDWHaNH/YbLYghmF4ABwMw3jZbLZHFovl/tDQEABgYHAQLSoVdDpd/q3btw8+nVvT15cJIPPDxYu/5HK5f7NaH8GLzWbDaDR9dO36tWdAnlZ9ff2hyMjI5l96eq4GCIW/j5kzJ3PxB4vjNmzc8DuJROI93d+fMZpM1OcrVtj7+voMPj68Nuuo9XRPT08dh6bn3urtPThZ7mvXr5dGR89ST5nCa8Kuwq8xJybmOADyoouiqI78/PzWCxcukFdRY2Mjyc/Pb6UoquNluWNiZh//unAnkJyczBYIBJ0vMqenp5O2trZXgnhebW1tJD09/YUwAoFAnZz0kRfk8ixKJBJdnsy4e/fu3wTxvPbs2TMpjEgkupwll7NRcvAgPkpM/NaTqays7LWAuFReXu4RJjEx8dvi4mKwoyUSBIpEd+5otX+2Wq3ersY6fPgw8vLyJuu736S4uDgIhUKcO3duYkwoFD5KTU3dODIyYmTHLVoEmss1gpDmu/39MoZh3vlLfj6rsLDwtYK4tGjRIlitVqhUKuLl5aWLj49fHhwc3GG32wGVSoWWlhZoNBqsX78+LTg4eJwwzGu9PZ4UFBQ0vmHDhlSNRoOWlhaoVCpQGo0G9+7eQ3d3N9Rq9eqysjJvsFhvZFeeVllZmXdnZ+ea7q5u3Ou/B81tDVhbt2zFlClTUFtbm/le5Hunz5w588ZBXMrIyEBvT+8f5HL5T6Ojo6CEAUJwaA4sluGCffv2vjUQANi7dy8sI5YCDs1BgCgAlDg8HG2XLqUtiI2VLlgQ+1ZhYmNjEbswVtrW1pYWIRaDMpnN6Ontzc7KynqrIC5lybPQ29ubbTabgKVLlvgFB4f0GwyGN/4EeZLBYCChISH9aSmf+HqNjIwsjI5+P1QgEExKr1arYTQaIRKJMGvWrFeuuru7G3q9HtOnT8e8efM8egQCASTR0aEmo/FDTJs6dXdBQYFHarPZTLKzs585ujdv3vxKFW/evPmZuFWrVhGz2ezRW1hYSHx9fYsA4Gh1dbVHU0ZGxgSAsr6e1NTUkLj4eLJp48YXgmzatInEx8eTUzU1RFlfT3KfgGVmZnr0nzhxggA4BgCnFQqFm6GhoYEAIDRNk6KiIiKVSolMJpuoWKfTeUys0+kmCpDJZEQqlZKioiJC0zQBQBoaGtxiFAoFAXAaAH46f/68m6G0tJQAIN7e3h7ftBcvXvQI09zc7NHvylNaWuoOc/48AXCaAmC6f/++W2NFRUUBAOx2u9scTdMIDw/32JBhYWGgadpt3JUnMjLSbU4/oAeAh4iJifkqOzvbjdZutxOZTOaxyh07dhBCCNFqtSQ3N5csX76c7CwoIMNPGnTHjh0e42QyGbHb7W5rrV69mrwbEVGIdV98EREYGGizWCxupgG9nqSkpEwk4/F4JCcnhzgcDmIymUhUVNQziy1JSyNjY2PE4XCQnJwcwuPxJuY+SUkhAwN6tzUsFgsJCgoaW7N69UxszcuDr6/vse3bt3vsAUIIUSqVpLKykrS3t0+MdXV1uVX+Dp9Pni6qvb2dVFZWEqVSOWnu7du3E19f32Nbt2wBqqqqUFxcPMPf3998qqZm0qDn5XQ6SUVFBQkJCSE0TRNxeDj5d23tK8cTQsipmhri7+9vLv5r8Yyq76uAs2fPorW1FXl5eR/TND12vq7uVyV88OAB2bVrF7Farb8qrq6ujtAceiwvL+/jVlUrzv58FpTNZoPBYEBISEjD3Dlzli5btmxw//79YBjG49PiUn9/P/R6PYYMBvT392NoaAgajQauv8nJxDAM9u/fh2XL5IPz5s5bGhIc0mAwGGCz2cBeuXIl2Gw2NBoNAGhDZ8z4+ciRI+Jz585FCoVCSCQSj0ltNhvqFQpc7+pCREQEbty4gdHRUUgkEnA4HI8xtbW1WLt2Laqrfzz72aefrhIGCK/weDyEhob+/1/bZaQoCmNjY+D7+f0SGBj4GSEkWy6Xf5WamrooKSkJa9aseeZsEQqF+HzFCoyPj4PP52NkZAR+fn5gPffJqtVq8cMPx9HU9B8olcrLC2NjvwkICPiRz/fD6KgVFEVNeL3wnJxOJ8bHxyGNj/9n2IwZpy9fvpysVCo3ff/dd/MFQmHYBwkJSHhyBQUFMVwulwIAPp8/kePmzZuoqqpCY2MjTCaT7tatW51hYWGVf5TLLwQGBT3WVFfD6XS67ZwbjGuXzMPDYLPZj8Vicd2jx4/rAgMD/ZsuXkzu7Oh4/9ChQ/MTEhKyVCqV25f7gQMHUFJSonv48OE/ANxMTkq6MDw8bBKLxWB7ecFsNj+zGy+FAQAWiwWn0wmHwwEWiwW+n58JwCmJRIK7d+9O5XA4GQA4APDgwQMoFAqUl5ebrly5UuXj41MkEokG9Ho9eDweKIqCw+GA0+mctJ9eCOMSIQQ0TWNsfBwsFgtqtRoAdsbFxXFqamqgUChw8uTJdrPZ3Ajg7wDu8Pl8j7fhZXopDM3lwmg0orW1FYQQAIhhsVjrKisr/1VSUtIEQA3gvwAcrpiXHQuT6X98jRQArcqGeAAAAABJRU5ErkJggg==\" alt=\"logo\" style=\"float:left; margin-right:10px\">\n",
       "          After concatenation you have duplicated column names - pay attention\n",
       "          <button type=\"button\" class=\"close\" data-dismiss=\"alert\" aria-label=\"Close\">\n",
       "            <span aria-hidden=\"true\">&times;</span>\n",
       "          </button>\n",
       "          <div style=\"font-size:0.7em;\">Line 1: <code>sightings = pd.concat(sightings_list,axis=1)</code> </div>\n",
       "\n",
       "        </div>\n",
       "        "
      ],
      "text/plain": [
       "===== After concatenation you have duplicated column names - pay attention ===== (Line 1)"
      ]
     },
     "metadata": {},
     "output_type": "display_data"
    },
    {
     "data": {
      "text/html": [
       "<div>\n",
       "<style scoped>\n",
       "    .dataframe tbody tr th:only-of-type {\n",
       "        vertical-align: middle;\n",
       "    }\n",
       "\n",
       "    .dataframe tbody tr th {\n",
       "        vertical-align: top;\n",
       "    }\n",
       "\n",
       "    .dataframe thead th {\n",
       "        text-align: right;\n",
       "    }\n",
       "</style>\n",
       "<table border=\"1\" class=\"dataframe\">\n",
       "  <thead>\n",
       "    <tr style=\"text-align: right;\">\n",
       "      <th></th>\n",
       "      <th>bear</th>\n",
       "      <th>timestamp</th>\n",
       "      <th>bear</th>\n",
       "      <th>timestamp</th>\n",
       "      <th>bear</th>\n",
       "      <th>timestamp</th>\n",
       "      <th>bear</th>\n",
       "      <th>timestamp</th>\n",
       "    </tr>\n",
       "  </thead>\n",
       "  <tbody>\n",
       "    <tr>\n",
       "      <th>0</th>\n",
       "      <td>Black Bear</td>\n",
       "      <td>2019-05-21 18:30:32</td>\n",
       "      <td>Grizzly</td>\n",
       "      <td>2019-05-21 17:49:39</td>\n",
       "      <td>Polar Bear</td>\n",
       "      <td>2019-05-21 14:04:52</td>\n",
       "      <td>Black Bear</td>\n",
       "      <td>2019-05-21 14:50:44</td>\n",
       "    </tr>\n",
       "    <tr>\n",
       "      <th>1</th>\n",
       "      <td>Black Bear</td>\n",
       "      <td>2019-05-21 17:26:15</td>\n",
       "      <td>Black Bear</td>\n",
       "      <td>2019-05-21 17:49:01</td>\n",
       "      <td>Giant Panda</td>\n",
       "      <td>2019-05-21 15:26:29</td>\n",
       "      <td>Polar Bear</td>\n",
       "      <td>2019-05-21 15:29:22</td>\n",
       "    </tr>\n",
       "    <tr>\n",
       "      <th>2</th>\n",
       "      <td>Black Bear</td>\n",
       "      <td>2019-05-21 15:01:11</td>\n",
       "      <td>Black Bear</td>\n",
       "      <td>2019-05-21 17:44:31</td>\n",
       "      <td>Grizzly</td>\n",
       "      <td>2019-05-21 17:38:27</td>\n",
       "      <td>Black Bear</td>\n",
       "      <td>2019-05-21 18:58:08</td>\n",
       "    </tr>\n",
       "    <tr>\n",
       "      <th>3</th>\n",
       "      <td>Black Bear</td>\n",
       "      <td>2019-05-21 14:33:26</td>\n",
       "      <td>Black Bear</td>\n",
       "      <td>2019-05-21 14:55:14</td>\n",
       "      <td>Black Bear</td>\n",
       "      <td>2019-05-21 14:32:54</td>\n",
       "      <td>Black Bear</td>\n",
       "      <td>2019-05-21 17:32:31</td>\n",
       "    </tr>\n",
       "    <tr>\n",
       "      <th>4</th>\n",
       "      <td>Grizzly</td>\n",
       "      <td>2019-05-21 14:21:15</td>\n",
       "      <td>Black Bear</td>\n",
       "      <td>2019-05-21 18:49:36</td>\n",
       "      <td>Black Bear</td>\n",
       "      <td>2019-05-21 14:18:27</td>\n",
       "      <td>Giant Panda</td>\n",
       "      <td>2019-05-21 18:01:38</td>\n",
       "    </tr>\n",
       "    <tr>\n",
       "      <th>...</th>\n",
       "      <td>...</td>\n",
       "      <td>...</td>\n",
       "      <td>...</td>\n",
       "      <td>...</td>\n",
       "      <td>...</td>\n",
       "      <td>...</td>\n",
       "      <td>...</td>\n",
       "      <td>...</td>\n",
       "    </tr>\n",
       "    <tr>\n",
       "      <th>90</th>\n",
       "      <td>NaN</td>\n",
       "      <td>NaT</td>\n",
       "      <td>NaN</td>\n",
       "      <td>NaT</td>\n",
       "      <td>NaN</td>\n",
       "      <td>NaT</td>\n",
       "      <td>Grizzly</td>\n",
       "      <td>2019-05-21 14:06:00</td>\n",
       "    </tr>\n",
       "    <tr>\n",
       "      <th>91</th>\n",
       "      <td>NaN</td>\n",
       "      <td>NaT</td>\n",
       "      <td>NaN</td>\n",
       "      <td>NaT</td>\n",
       "      <td>NaN</td>\n",
       "      <td>NaT</td>\n",
       "      <td>Polar Bear</td>\n",
       "      <td>2019-05-21 14:27:42</td>\n",
       "    </tr>\n",
       "    <tr>\n",
       "      <th>92</th>\n",
       "      <td>NaN</td>\n",
       "      <td>NaT</td>\n",
       "      <td>NaN</td>\n",
       "      <td>NaT</td>\n",
       "      <td>NaN</td>\n",
       "      <td>NaT</td>\n",
       "      <td>Black Bear</td>\n",
       "      <td>2019-05-21 15:34:13</td>\n",
       "    </tr>\n",
       "    <tr>\n",
       "      <th>93</th>\n",
       "      <td>NaN</td>\n",
       "      <td>NaT</td>\n",
       "      <td>NaN</td>\n",
       "      <td>NaT</td>\n",
       "      <td>NaN</td>\n",
       "      <td>NaT</td>\n",
       "      <td>Grizzly</td>\n",
       "      <td>2019-05-21 18:37:13</td>\n",
       "    </tr>\n",
       "    <tr>\n",
       "      <th>94</th>\n",
       "      <td>NaN</td>\n",
       "      <td>NaT</td>\n",
       "      <td>NaN</td>\n",
       "      <td>NaT</td>\n",
       "      <td>NaN</td>\n",
       "      <td>NaT</td>\n",
       "      <td>Black Bear</td>\n",
       "      <td>2019-05-21 14:49:45</td>\n",
       "    </tr>\n",
       "  </tbody>\n",
       "</table>\n",
       "<p>95 rows × 8 columns</p>\n",
       "</div>"
      ],
      "text/plain": [
       "          bear           timestamp        bear           timestamp  \\\n",
       "0   Black Bear 2019-05-21 18:30:32     Grizzly 2019-05-21 17:49:39   \n",
       "1   Black Bear 2019-05-21 17:26:15  Black Bear 2019-05-21 17:49:01   \n",
       "2   Black Bear 2019-05-21 15:01:11  Black Bear 2019-05-21 17:44:31   \n",
       "3   Black Bear 2019-05-21 14:33:26  Black Bear 2019-05-21 14:55:14   \n",
       "4      Grizzly 2019-05-21 14:21:15  Black Bear 2019-05-21 18:49:36   \n",
       "..         ...                 ...         ...                 ...   \n",
       "90         NaN                 NaT         NaN                 NaT   \n",
       "91         NaN                 NaT         NaN                 NaT   \n",
       "92         NaN                 NaT         NaN                 NaT   \n",
       "93         NaN                 NaT         NaN                 NaT   \n",
       "94         NaN                 NaT         NaN                 NaT   \n",
       "\n",
       "           bear           timestamp         bear           timestamp  \n",
       "0    Polar Bear 2019-05-21 14:04:52   Black Bear 2019-05-21 14:50:44  \n",
       "1   Giant Panda 2019-05-21 15:26:29   Polar Bear 2019-05-21 15:29:22  \n",
       "2       Grizzly 2019-05-21 17:38:27   Black Bear 2019-05-21 18:58:08  \n",
       "3    Black Bear 2019-05-21 14:32:54   Black Bear 2019-05-21 17:32:31  \n",
       "4    Black Bear 2019-05-21 14:18:27  Giant Panda 2019-05-21 18:01:38  \n",
       "..          ...                 ...          ...                 ...  \n",
       "90          NaN                 NaT      Grizzly 2019-05-21 14:06:00  \n",
       "91          NaN                 NaT   Polar Bear 2019-05-21 14:27:42  \n",
       "92          NaN                 NaT   Black Bear 2019-05-21 15:34:13  \n",
       "93          NaN                 NaT      Grizzly 2019-05-21 18:37:13  \n",
       "94          NaN                 NaT   Black Bear 2019-05-21 14:49:45  \n",
       "\n",
       "[95 rows x 8 columns]"
      ]
     },
     "execution_count": 9,
     "metadata": {},
     "output_type": "execute_result"
    }
   ],
   "source": [
    "sightings = pd.concat(sightings_list,axis=1)\n",
    "sightings"
   ]
  },
  {
   "cell_type": "markdown",
   "metadata": {},
   "source": [
    "DataFrame looks weird. 8 columns instead of 2, and many `NaN`s.  \n",
    "Luckily, dovpanda is there to help us - We chose the wrong concat axis"
   ]
  },
  {
   "cell_type": "code",
   "execution_count": 10,
   "metadata": {},
   "outputs": [
    {
     "data": {
      "text/html": [
       "\n",
       "        <div class=\"alert alert-info\" role=\"alert\">\n",
       "          <img src=\"data:image/png;base64,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\" alt=\"logo\" style=\"float:left; margin-right:10px\">\n",
       "          After concatenation you have duplicated indexes values - pay attention\n",
       "          <button type=\"button\" class=\"close\" data-dismiss=\"alert\" aria-label=\"Close\">\n",
       "            <span aria-hidden=\"true\">&times;</span>\n",
       "          </button>\n",
       "          <div style=\"font-size:0.7em;\">Line 1: <code>sightings = pd.concat(sightings_list,axis=0)</code> </div>\n",
       "\n",
       "        </div>\n",
       "        "
      ],
      "text/plain": [
       "===== After concatenation you have duplicated indexes values - pay attention ===== (Line 1)"
      ]
     },
     "metadata": {},
     "output_type": "display_data"
    },
    {
     "data": {
      "text/html": [
       "<div>\n",
       "<style scoped>\n",
       "    .dataframe tbody tr th:only-of-type {\n",
       "        vertical-align: middle;\n",
       "    }\n",
       "\n",
       "    .dataframe tbody tr th {\n",
       "        vertical-align: top;\n",
       "    }\n",
       "\n",
       "    .dataframe thead th {\n",
       "        text-align: right;\n",
       "    }\n",
       "</style>\n",
       "<table border=\"1\" class=\"dataframe\">\n",
       "  <thead>\n",
       "    <tr style=\"text-align: right;\">\n",
       "      <th></th>\n",
       "      <th>bear</th>\n",
       "      <th>timestamp</th>\n",
       "    </tr>\n",
       "  </thead>\n",
       "  <tbody>\n",
       "    <tr>\n",
       "      <th>0</th>\n",
       "      <td>Black Bear</td>\n",
       "      <td>2019-05-21 18:30:32</td>\n",
       "    </tr>\n",
       "    <tr>\n",
       "      <th>1</th>\n",
       "      <td>Black Bear</td>\n",
       "      <td>2019-05-21 17:26:15</td>\n",
       "    </tr>\n",
       "    <tr>\n",
       "      <th>2</th>\n",
       "      <td>Black Bear</td>\n",
       "      <td>2019-05-21 15:01:11</td>\n",
       "    </tr>\n",
       "    <tr>\n",
       "      <th>3</th>\n",
       "      <td>Black Bear</td>\n",
       "      <td>2019-05-21 14:33:26</td>\n",
       "    </tr>\n",
       "    <tr>\n",
       "      <th>4</th>\n",
       "      <td>Grizzly</td>\n",
       "      <td>2019-05-21 14:21:15</td>\n",
       "    </tr>\n",
       "    <tr>\n",
       "      <th>...</th>\n",
       "      <td>...</td>\n",
       "      <td>...</td>\n",
       "    </tr>\n",
       "    <tr>\n",
       "      <th>90</th>\n",
       "      <td>Grizzly</td>\n",
       "      <td>2019-05-21 14:06:00</td>\n",
       "    </tr>\n",
       "    <tr>\n",
       "      <th>91</th>\n",
       "      <td>Polar Bear</td>\n",
       "      <td>2019-05-21 14:27:42</td>\n",
       "    </tr>\n",
       "    <tr>\n",
       "      <th>92</th>\n",
       "      <td>Black Bear</td>\n",
       "      <td>2019-05-21 15:34:13</td>\n",
       "    </tr>\n",
       "    <tr>\n",
       "      <th>93</th>\n",
       "      <td>Grizzly</td>\n",
       "      <td>2019-05-21 18:37:13</td>\n",
       "    </tr>\n",
       "    <tr>\n",
       "      <th>94</th>\n",
       "      <td>Black Bear</td>\n",
       "      <td>2019-05-21 14:49:45</td>\n",
       "    </tr>\n",
       "  </tbody>\n",
       "</table>\n",
       "<p>271 rows × 2 columns</p>\n",
       "</div>"
      ],
      "text/plain": [
       "          bear           timestamp\n",
       "0   Black Bear 2019-05-21 18:30:32\n",
       "1   Black Bear 2019-05-21 17:26:15\n",
       "2   Black Bear 2019-05-21 15:01:11\n",
       "3   Black Bear 2019-05-21 14:33:26\n",
       "4      Grizzly 2019-05-21 14:21:15\n",
       "..         ...                 ...\n",
       "90     Grizzly 2019-05-21 14:06:00\n",
       "91  Polar Bear 2019-05-21 14:27:42\n",
       "92  Black Bear 2019-05-21 15:34:13\n",
       "93     Grizzly 2019-05-21 18:37:13\n",
       "94  Black Bear 2019-05-21 14:49:45\n",
       "\n",
       "[271 rows x 2 columns]"
      ]
     },
     "execution_count": 10,
     "metadata": {},
     "output_type": "execute_result"
    }
   ],
   "source": [
    "sightings = pd.concat(sightings_list,axis=0)\n",
    "sightings"
   ]
  },
  {
   "cell_type": "markdown",
   "metadata": {},
   "source": [
    "Much Better! dovpanda still warns us that we have duplicate indices. But it's okay for now."
   ]
  },
  {
   "cell_type": "markdown",
   "metadata": {},
   "source": [
    "## Analysis\n",
    "How many bears have we observed each hour?"
   ]
  },
  {
   "cell_type": "code",
   "execution_count": 11,
   "metadata": {},
   "outputs": [
    {
     "data": {
      "text/html": [
       "\n",
       "        <div class=\"alert alert-info\" role=\"alert\">\n",
       "          <img src=\"data:image/png;base64,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\" alt=\"logo\" style=\"float:left; margin-right:10px\">\n",
       "          Seems like you are grouping by a column named <strong>hour</strong>.<br>consider setting the time column as index and then use df.resample('time abbrevations'), for example:<br><code>df.set_index('date').resample('h')</code>\n",
       "          <button type=\"button\" class=\"close\" data-dismiss=\"alert\" aria-label=\"Close\">\n",
       "            <span aria-hidden=\"true\">&times;</span>\n",
       "          </button>\n",
       "          <div style=\"font-size:0.7em;\">Line 2: <code>sightings.groupby('hour').bear.count()</code> </div>\n",
       "\n",
       "        </div>\n",
       "        "
      ],
      "text/plain": [
       "===== Seems like you are grouping by a column named hour.\n",
       "consider setting the time column as index and then use df.resample('time abbrevations'), for example:\n",
       "df.set_index('date').resample('h') ===== (Line 2)"
      ]
     },
     "metadata": {},
     "output_type": "display_data"
    },
    {
     "data": {
      "text/plain": [
       "hour\n",
       "14    108\n",
       "15     50\n",
       "17     55\n",
       "18     58\n",
       "Name: bear, dtype: int64"
      ]
     },
     "execution_count": 11,
     "metadata": {},
     "output_type": "execute_result"
    }
   ],
   "source": [
    "sightings['hour'] = sightings.timestamp.dt.hour\n",
    "sightings.groupby('hour').bear.count()"
   ]
  },
  {
   "cell_type": "markdown",
   "metadata": {},
   "source": [
    "groupby time objects is better if we use pandas' methods designed specifically for this task. dovpandas tells us how to do so."
   ]
  },
  {
   "cell_type": "code",
   "execution_count": 12,
   "metadata": {},
   "outputs": [
    {
     "data": {
      "text/plain": [
       "timestamp\n",
       "2019-05-21 14:00:00    108\n",
       "2019-05-21 15:00:00     50\n",
       "2019-05-21 16:00:00      0\n",
       "2019-05-21 17:00:00     55\n",
       "2019-05-21 18:00:00     58\n",
       "Freq: H, Name: bear, dtype: int64"
      ]
     },
     "execution_count": 12,
     "metadata": {},
     "output_type": "execute_result"
    }
   ],
   "source": [
    "sightings.set_index('timestamp').resample('h').bear.count()"
   ]
  },
  {
   "cell_type": "markdown",
   "metadata": {},
   "source": [
    "Notice how pandas knows now that the index is a time object. Also, we can see that at 16:00 we have 0 sightings but the key did not disappear."
   ]
  },
  {
   "cell_type": "markdown",
   "metadata": {},
   "source": [
    "# Ranom Tip\n",
    "Well, we finished the task at hand. We deserve a prize. Let's ask dovpanda a random pandas tip for the next time."
   ]
  },
  {
   "cell_type": "code",
   "execution_count": 26,
   "metadata": {},
   "outputs": [
    {
     "data": {
      "text/html": [
       "\n",
       "        <div class=\"alert alert-warning\" role=\"alert\">\n",
       "          <blockquote class=\"twitter-tweet\"><p lang=\"en\" dir=\"ltr\">🐼🤹‍♂️ pandas trick:<br><br>⚠️ Got bad data (or empty rows) at the top of your CSV file? Use these read_csv parameters:<br><br>➡️ header = row number of header (start counting at 0)<br>➡️ skiprows = list of row numbers to skip<br><br>See example 👇<a href=\"https://twitter.com/hashtag/Python?src=hash&amp;ref_src=twsrc%5Etfw\">#Python</a> <a href=\"https://twitter.com/hashtag/DataScience?src=hash&amp;ref_src=twsrc%5Etfw\">#DataScience</a> <a href=\"https://twitter.com/hashtag/pandas?src=hash&amp;ref_src=twsrc%5Etfw\">#pandas</a> <a href=\"https://twitter.com/hashtag/pandastricks?src=hash&amp;ref_src=twsrc%5Etfw\">#pandastricks</a> <a href=\"https://t.co/t1M6XkkPYG\">pic.twitter.com/t1M6XkkPYG</a></p>&mdash; Kevin Markham (@justmarkham) <a href=\"https://twitter.com/justmarkham/status/1168930165658914816?ref_src=twsrc%5Etfw\">September 3, 2019</a></blockquote> <script async src=\"https://platform.twitter.com/widgets.js\" charset=\"utf-8\"></script>\n",
       "\n",
       "          <button type=\"button\" class=\"close\" data-dismiss=\"alert\" aria-label=\"Close\">\n",
       "            <span aria-hidden=\"true\">&times;</span>\n",
       "          </button>\n",
       "        </div>\n",
       "                  <p>\n",
       "            Source: <a href=\"https://twitter.com/justmarkham/status/1168930165658914816\" target=\"_blank\">Kevin Markham's Twitter</a>\n",
       "          </p>\n",
       "        "
      ],
      "text/plain": [
       "<blockquote class=\"twitter-tweet\"><p lang=\"en\" dir=\"ltr\">🐼🤹‍♂️ pandas trick:<br><br>⚠️ Got bad data (or empty rows) at the top of your CSV file? Use these read_csv parameters:<br><br>➡️ header = row number of header (start counting at 0)<br>➡️ skiprows = list of row numbers to skip<br><br>See example 👇<a href=\"https://twitter.com/hashtag/Python?src=hash&amp;ref_src=twsrc%5Etfw\">#Python</a> <a href=\"https://twitter.com/hashtag/DataScience?src=hash&amp;ref_src=twsrc%5Etfw\">#DataScience</a> <a href=\"https://twitter.com/hashtag/pandas?src=hash&amp;ref_src=twsrc%5Etfw\">#pandas</a> <a href=\"https://twitter.com/hashtag/pandastricks?src=hash&amp;ref_src=twsrc%5Etfw\">#pandastricks</a> <a href=\"https://t.co/t1M6XkkPYG\">pic.twitter.com/t1M6XkkPYG</a></p>&mdash; Kevin Markham (@justmarkham) <a href=\"https://twitter.com/justmarkham/status/1168930165658914816?ref_src=twsrc%5Etfw\">September 3, 2019</a></blockquote> <script async src=\"https://platform.twitter.com/widgets.js\" charset=\"utf-8\"></script>"
      ]
     },
     "execution_count": 26,
     "metadata": {},
     "output_type": "execute_result"
    }
   ],
   "source": [
    "dovpanda.tip()"
   ]
  },
  {
   "cell_type": "markdown",
   "metadata": {},
   "source": [
    "# Summary\n",
    "* dovpanda is your companion for writing better pandas code. It works \"out-of-the-box\" when imported and fits best in a notebook environment.\n",
    "* dovpanda has a stock of random tips for you.\n",
    "* dovpanda is ever evolving with more hints and tips."
   ]
  },
  {
   "cell_type": "markdown",
   "metadata": {},
   "source": [
    "# Advanced"
   ]
  },
  {
   "cell_type": "markdown",
   "metadata": {},
   "source": [
    "## Output\n",
    "if you want to mute dovpanda until you wake it up, use `.set_output(off)`"
   ]
  },
  {
   "cell_type": "code",
   "execution_count": 13,
   "metadata": {},
   "outputs": [
    {
     "data": {
      "text/html": [
       "\n",
       "        <div class=\"alert alert-info\" role=\"alert\">\n",
       "          <img src=\"data:image/png;base64,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\" alt=\"logo\" style=\"float:left; margin-right:10px\">\n",
       "          All dataframes have the same columns, which hints for concat on axis 0.You specified <code>axis=1</code> which may result in an unwanted behaviour\n",
       "          <button type=\"button\" class=\"close\" data-dismiss=\"alert\" aria-label=\"Close\">\n",
       "            <span aria-hidden=\"true\">&times;</span>\n",
       "          </button>\n",
       "          <div style=\"font-size:0.7em;\">Line 1: <code>sightings = pd.concat(sightings_list,axis=1)</code> </div>\n",
       "\n",
       "        </div>\n",
       "        "
      ],
      "text/plain": [
       "===== All dataframes have the same columns, which hints for concat on axis 0.You specified axis=1 which may result in an unwanted behaviour ===== (Line 1)"
      ]
     },
     "metadata": {},
     "output_type": "display_data"
    },
    {
     "data": {
      "text/html": [
       "\n",
       "        <div class=\"alert alert-info\" role=\"alert\">\n",
       "          <img src=\"data:image/png;base64,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\" alt=\"logo\" style=\"float:left; margin-right:10px\">\n",
       "          After concatenation you have duplicated column names - pay attention\n",
       "          <button type=\"button\" class=\"close\" data-dismiss=\"alert\" aria-label=\"Close\">\n",
       "            <span aria-hidden=\"true\">&times;</span>\n",
       "          </button>\n",
       "          <div style=\"font-size:0.7em;\">Line 1: <code>sightings = pd.concat(sightings_list,axis=1)</code> </div>\n",
       "\n",
       "        </div>\n",
       "        "
      ],
      "text/plain": [
       "===== After concatenation you have duplicated column names - pay attention ===== (Line 1)"
      ]
     },
     "metadata": {},
     "output_type": "display_data"
    }
   ],
   "source": [
    "sightings = pd.concat(sightings_list,axis=1)"
   ]
  },
  {
   "cell_type": "code",
   "execution_count": 14,
   "metadata": {},
   "outputs": [],
   "source": [
    "dovpanda.set_output('off')"
   ]
  },
  {
   "cell_type": "code",
   "execution_count": 15,
   "metadata": {},
   "outputs": [],
   "source": [
    "sightings = pd.concat(sightings_list,axis=1)"
   ]
  },
  {
   "cell_type": "markdown",
   "metadata": {},
   "source": [
    "dovpanda is muted. It still works in the background just not spamming your screen.  \n",
    "You can start it again with calling different options on `set_output`"
   ]
  },
  {
   "cell_type": "code",
   "execution_count": 16,
   "metadata": {},
   "outputs": [
    {
     "data": {
      "text/html": [
       "\n",
       "        <div class=\"alert alert-info\" role=\"alert\">\n",
       "          <img src=\"data:image/png;base64,iVBORw0KGgoAAAANSUhEUgAAACMAAAAjCAYAAAAe2bNZAAAACXBIWXMAAAsTAAALEwEAmpwYAAAF9GlUWHRYTUw6Y29tLmFkb2JlLnhtcAAAAAAAPD94cGFja2V0IGJlZ2luPSLvu78iIGlkPSJXNU0wTXBDZWhpSHpyZVN6TlRjemtjOWQiPz4gPHg6eG1wbWV0YSB4bWxuczp4PSJhZG9iZTpuczptZXRhLyIgeDp4bXB0az0iQWRvYmUgWE1QIENvcmUgNS42LWMxNDUgNzkuMTYzNDk5LCAyMDE4LzA4LzEzLTE2OjQwOjIyICAgICAgICAiPiA8cmRmOlJERiB4bWxuczpyZGY9Imh0dHA6Ly93d3cudzMub3JnLzE5OTkvMDIvMjItcmRmLXN5bnRheC1ucyMiPiA8cmRmOkRlc2NyaXB0aW9uIHJkZjphYm91dD0iIiB4bWxuczp4bXA9Imh0dHA6Ly9ucy5hZG9iZS5jb20veGFwLzEuMC8iIHhtbG5zOmRjPSJodHRwOi8vcHVybC5vcmcvZGMvZWxlbWVudHMvMS4xLyIgeG1sbnM6cGhvdG9zaG9wPSJodHRwOi8vbnMuYWRvYmUuY29tL3Bob3Rvc2hvcC8xLjAvIiB4bWxuczp4bXBNTT0iaHR0cDovL25zLmFkb2JlLmNvbS94YXAvMS4wL21tLyIgeG1sbnM6c3RFdnQ9Imh0dHA6Ly9ucy5hZG9iZS5jb20veGFwLzEuMC9zVHlwZS9SZXNvdXJjZUV2ZW50IyIgeG1wOkNyZWF0b3JUb29sPSJBZG9iZSBQaG90b3Nob3AgQ0MgMjAxOSAoV2luZG93cykiIHhtcDpDcmVhdGVEYXRlPSIyMDE5LTEwLTI2VDExOjI2KzAzOjAwIiB4bXA6TW9kaWZ5RGF0ZT0iMjAxOS0xMS0wOVQxMjo0MDo1MCswMjowMCIgeG1wOk1ldGFkYXRhRGF0ZT0iMjAxOS0xMS0wOVQxMjo0MDo1MCswMjowMCIgZGM6Zm9ybWF0PSJpbWFnZS9wbmciIHBob3Rvc2hvcDpDb2xvck1vZGU9IjMiIHBob3Rvc2hvcDpJQ0NQcm9maWxlPSJzUkdCIElFQzYxOTY2LTIuMSIgeG1wTU06SW5zdGFuY2VJRD0ieG1wLmlpZDo0YjVlMWMxZC1iMGNmLTk0NDctOTRiMy1lZTU1YmI2NjJmYTciIHhtcE1NOkRvY3VtZW50SUQ9ImFkb2JlOmRvY2lkOnBob3Rvc2hvcDo3MTcyNGRkOC1kMzM3LTVhNDQtOWQ3OS1iMzNlZWY3OTkzNzciIHhtcE1NOk9yaWdpbmFsRG9jdW1lbnRJRD0ieG1wLmRpZDpmMjYyNGQ0My04YzlhLWNhNDAtYTM4NC00OTViOGY1NzUwMDAiPiA8eG1wTU06SGlzdG9yeT4gPHJkZjpTZXE+IDxyZGY6bGkgc3RFdnQ6YWN0aW9uPSJjcmVhdGVkIiBzdEV2dDppbnN0YW5jZUlEPSJ4bXAuaWlkOmYyNjI0ZDQzLThjOWEtY2E0MC1hMzg0LTQ5NWI4ZjU3NTAwMCIgc3RFdnQ6d2hlbj0iMjAxOS0xMC0yNlQxMToyNiswMzowMCIgc3RFdnQ6c29mdHdhcmVBZ2VudD0iQWRvYmUgUGhvdG9zaG9wIENDIDIwMTkgKFdpbmRvd3MpIi8+IDxyZGY6bGkgc3RFdnQ6YWN0aW9uPSJzYXZlZCIgc3RFdnQ6aW5zdGFuY2VJRD0ieG1wLmlpZDo0YjVlMWMxZC1iMGNmLTk0NDctOTRiMy1lZTU1YmI2NjJmYTciIHN0RXZ0OndoZW49IjIwMTktMTEtMDlUMTI6NDA6NTArMDI6MDAiIHN0RXZ0OnNvZnR3YXJlQWdlbnQ9IkFkb2JlIFBob3Rvc2hvcCBDQyAyMDE5IChXaW5kb3dzKSIgc3RFdnQ6Y2hhbmdlZD0iLyIvPiA8L3JkZjpTZXE+IDwveG1wTU06SGlzdG9yeT4gPC9yZGY6RGVzY3JpcHRpb24+IDwvcmRmOlJERj4gPC94OnhtcG1ldGE+IDw/eHBhY2tldCBlbmQ9InIiPz42QQkHAAAIgElEQVRYhb2XbVBTVxrH/7mB3BAhVcyG8CaEWkhRfEMh1FJIKSjbwhrWKupg3fVlZFCrZb8g9f0LC9opCw4r+8EWK11nRdZaxZAZcBHCCgpRQQsaTNDRQEhCkCghyT37YQ2jJqjtqP+Z++Wc//Oc33Puc8+9l7Vt2zZQFIVLly7h8aNHaSMPH+b19fUlAmCJw8NbORzv0nXr/qSYOXMmKioq0NHRgdmzZyM8XIzm5mYkJyfBx8cHVqsVLS0tkCZIodPp0HW9C/Pnz0dubi5u376No0ePLrE7HF9qtdoEAHg3IqLJz8+v3MeHp5RKpWAYBl6EEHC5XLAp9jb11auleEp3tNp0AOlt7e35A4OD3wwODoJhGAwNDWHaNH/YbLYghmF4ABwMw3jZbLZHFovl/tDQEABgYHAQLSoVdDpd/q3btw8+nVvT15cJIPPDxYu/5HK5f7NaH8GLzWbDaDR9dO36tWdAnlZ9ff2hyMjI5l96eq4GCIW/j5kzJ3PxB4vjNmzc8DuJROI93d+fMZpM1OcrVtj7+voMPj68Nuuo9XRPT08dh6bn3urtPThZ7mvXr5dGR89ST5nCa8Kuwq8xJybmOADyoouiqI78/PzWCxcukFdRY2Mjyc/Pb6UoquNluWNiZh//unAnkJyczBYIBJ0vMqenp5O2trZXgnhebW1tJD09/YUwAoFAnZz0kRfk8ixKJBJdnsy4e/fu3wTxvPbs2TMpjEgkupwll7NRcvAgPkpM/NaTqays7LWAuFReXu4RJjEx8dvi4mKwoyUSBIpEd+5otX+2Wq3ersY6fPgw8vLyJuu736S4uDgIhUKcO3duYkwoFD5KTU3dODIyYmTHLVoEmss1gpDmu/39MoZh3vlLfj6rsLDwtYK4tGjRIlitVqhUKuLl5aWLj49fHhwc3GG32wGVSoWWlhZoNBqsX78+LTg4eJwwzGu9PZ4UFBQ0vmHDhlSNRoOWlhaoVCpQGo0G9+7eQ3d3N9Rq9eqysjJvsFhvZFeeVllZmXdnZ+ea7q5u3Ou/B81tDVhbt2zFlClTUFtbm/le5Hunz5w588ZBXMrIyEBvT+8f5HL5T6Ojo6CEAUJwaA4sluGCffv2vjUQANi7dy8sI5YCDs1BgCgAlDg8HG2XLqUtiI2VLlgQ+1ZhYmNjEbswVtrW1pYWIRaDMpnN6Ontzc7KynqrIC5lybPQ29ubbTabgKVLlvgFB4f0GwyGN/4EeZLBYCChISH9aSmf+HqNjIwsjI5+P1QgEExKr1arYTQaIRKJMGvWrFeuuru7G3q9HtOnT8e8efM8egQCASTR0aEmo/FDTJs6dXdBQYFHarPZTLKzs585ujdv3vxKFW/evPmZuFWrVhGz2ezRW1hYSHx9fYsA4Gh1dbVHU0ZGxgSAsr6e1NTUkLj4eLJp48YXgmzatInEx8eTUzU1RFlfT3KfgGVmZnr0nzhxggA4BgCnFQqFm6GhoYEAIDRNk6KiIiKVSolMJpuoWKfTeUys0+kmCpDJZEQqlZKioiJC0zQBQBoaGtxiFAoFAXAaAH46f/68m6G0tJQAIN7e3h7ftBcvXvQI09zc7NHvylNaWuoOc/48AXCaAmC6f/++W2NFRUUBAOx2u9scTdMIDw/32JBhYWGgadpt3JUnMjLSbU4/oAeAh4iJifkqOzvbjdZutxOZTOaxyh07dhBCCNFqtSQ3N5csX76c7CwoIMNPGnTHjh0e42QyGbHb7W5rrV69mrwbEVGIdV98EREYGGizWCxupgG9nqSkpEwk4/F4JCcnhzgcDmIymUhUVNQziy1JSyNjY2PE4XCQnJwcwuPxJuY+SUkhAwN6tzUsFgsJCgoaW7N69UxszcuDr6/vse3bt3vsAUIIUSqVpLKykrS3t0+MdXV1uVX+Dp9Pni6qvb2dVFZWEqVSOWnu7du3E19f32Nbt2wBqqqqUFxcPMPf3998qqZm0qDn5XQ6SUVFBQkJCSE0TRNxeDj5d23tK8cTQsipmhri7+9vLv5r8Yyq76uAs2fPorW1FXl5eR/TND12vq7uVyV88OAB2bVrF7Farb8qrq6ujtAceiwvL+/jVlUrzv58FpTNZoPBYEBISEjD3Dlzli5btmxw//79YBjG49PiUn9/P/R6PYYMBvT392NoaAgajQauv8nJxDAM9u/fh2XL5IPz5s5bGhIc0mAwGGCz2cBeuXIl2Gw2NBoNAGhDZ8z4+ciRI+Jz585FCoVCSCQSj0ltNhvqFQpc7+pCREQEbty4gdHRUUgkEnA4HI8xtbW1WLt2Laqrfzz72aefrhIGCK/weDyEhob+/1/bZaQoCmNjY+D7+f0SGBj4GSEkWy6Xf5WamrooKSkJa9aseeZsEQqF+HzFCoyPj4PP52NkZAR+fn5gPffJqtVq8cMPx9HU9B8olcrLC2NjvwkICPiRz/fD6KgVFEVNeL3wnJxOJ8bHxyGNj/9n2IwZpy9fvpysVCo3ff/dd/MFQmHYBwkJSHhyBQUFMVwulwIAPp8/kePmzZuoqqpCY2MjTCaT7tatW51hYWGVf5TLLwQGBT3WVFfD6XS67ZwbjGuXzMPDYLPZj8Vicd2jx4/rAgMD/ZsuXkzu7Oh4/9ChQ/MTEhKyVCqV25f7gQMHUFJSonv48OE/ANxMTkq6MDw8bBKLxWB7ecFsNj+zGy+FAQAWiwWn0wmHwwEWiwW+n58JwCmJRIK7d+9O5XA4GQA4APDgwQMoFAqUl5ebrly5UuXj41MkEokG9Ho9eDweKIqCw+GA0+mctJ9eCOMSIQQ0TWNsfBwsFgtqtRoAdsbFxXFqamqgUChw8uTJdrPZ3Ajg7wDu8Pl8j7fhZXopDM3lwmg0orW1FYQQAIhhsVjrKisr/1VSUtIEQA3gvwAcrpiXHQuT6X98jRQArcqGeAAAAABJRU5ErkJggg==\" alt=\"logo\" style=\"float:left; margin-right:10px\">\n",
       "          All dataframes have the same columns, which hints for concat on axis 0.You specified <code>axis=1</code> which may result in an unwanted behaviour\n",
       "          <button type=\"button\" class=\"close\" data-dismiss=\"alert\" aria-label=\"Close\">\n",
       "            <span aria-hidden=\"true\">&times;</span>\n",
       "          </button>\n",
       "          <div style=\"font-size:0.7em;\">Line 2: <code>sightings = pd.concat(sightings_list,axis=1)</code> </div>\n",
       "\n",
       "        </div>\n",
       "        "
      ],
      "text/plain": [
       "===== All dataframes have the same columns, which hints for concat on axis 0.You specified axis=1 which may result in an unwanted behaviour ===== (Line 2)"
      ]
     },
     "metadata": {},
     "output_type": "display_data"
    },
    {
     "data": {
      "text/html": [
       "\n",
       "        <div class=\"alert alert-info\" role=\"alert\">\n",
       "          <img src=\"data:image/png;base64,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\" alt=\"logo\" style=\"float:left; margin-right:10px\">\n",
       "          After concatenation you have duplicated column names - pay attention\n",
       "          <button type=\"button\" class=\"close\" data-dismiss=\"alert\" aria-label=\"Close\">\n",
       "            <span aria-hidden=\"true\">&times;</span>\n",
       "          </button>\n",
       "          <div style=\"font-size:0.7em;\">Line 2: <code>sightings = pd.concat(sightings_list,axis=1)</code> </div>\n",
       "\n",
       "        </div>\n",
       "        "
      ],
      "text/plain": [
       "===== After concatenation you have duplicated column names - pay attention ===== (Line 2)"
      ]
     },
     "metadata": {},
     "output_type": "display_data"
    }
   ],
   "source": [
    "dovpanda.set_output('display')\n",
    "sightings = pd.concat(sightings_list,axis=1)"
   ]
  },
  {
   "cell_type": "code",
   "execution_count": 17,
   "metadata": {},
   "outputs": [
    {
     "name": "stdout",
     "output_type": "stream",
     "text": [
      "All dataframes have the same columns, which hints for concat on axis 0.You specified axis=1 which may result in an unwanted behaviour (Line 2)\n",
      "After concatenation you have duplicated column names - pay attention (Line 2)\n"
     ]
    }
   ],
   "source": [
    "dovpanda.set_output('print')\n",
    "sightings = pd.concat(sightings_list,axis=1)"
   ]
  },
  {
   "cell_type": "code",
   "execution_count": 18,
   "metadata": {},
   "outputs": [
    {
     "name": "stderr",
     "output_type": "stream",
     "text": [
      "All dataframes have the same columns, which hints for concat on axis 0.You specified axis=1 which may result in an unwanted behaviour (Line 2)\n",
      "After concatenation you have duplicated column names - pay attention (Line 2)\n"
     ]
    }
   ],
   "source": [
    "dovpanda.set_output('warning')\n",
    "sightings = pd.concat(sightings_list,axis=1)"
   ]
  },
  {
   "cell_type": "markdown",
   "metadata": {},
   "source": [
    "## Shutdown and startup\n",
    "You can shutdown dovpanda completely, making sure that it is not running.  \n",
    "Or turn it back on."
   ]
  },
  {
   "cell_type": "code",
   "execution_count": 19,
   "metadata": {},
   "outputs": [],
   "source": [
    "dovpanda.shutdown()"
   ]
  },
  {
   "cell_type": "code",
   "execution_count": 20,
   "metadata": {},
   "outputs": [],
   "source": [
    "dovpanda.set_output('display')\n",
    "sightings = pd.concat(sightings_list,axis=1)"
   ]
  },
  {
   "cell_type": "code",
   "execution_count": 21,
   "metadata": {},
   "outputs": [],
   "source": [
    "dovpanda.start()"
   ]
  },
  {
   "cell_type": "code",
   "execution_count": 22,
   "metadata": {},
   "outputs": [
    {
     "data": {
      "text/html": [
       "\n",
       "        <div class=\"alert alert-info\" role=\"alert\">\n",
       "          <img src=\"data:image/png;base64,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\" alt=\"logo\" style=\"float:left; margin-right:10px\">\n",
       "          All dataframes have the same columns, which hints for concat on axis 0.You specified <code>axis=1</code> which may result in an unwanted behaviour\n",
       "          <button type=\"button\" class=\"close\" data-dismiss=\"alert\" aria-label=\"Close\">\n",
       "            <span aria-hidden=\"true\">&times;</span>\n",
       "          </button>\n",
       "          <div style=\"font-size:0.7em;\">Line 2: <code>sightings = pd.concat(sightings_list,axis=1)</code> </div>\n",
       "\n",
       "        </div>\n",
       "        "
      ],
      "text/plain": [
       "===== All dataframes have the same columns, which hints for concat on axis 0.You specified axis=1 which may result in an unwanted behaviour ===== (Line 2)"
      ]
     },
     "metadata": {},
     "output_type": "display_data"
    },
    {
     "data": {
      "text/html": [
       "\n",
       "        <div class=\"alert alert-info\" role=\"alert\">\n",
       "          <img src=\"data:image/png;base64,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\" alt=\"logo\" style=\"float:left; margin-right:10px\">\n",
       "          After concatenation you have duplicated column names - pay attention\n",
       "          <button type=\"button\" class=\"close\" data-dismiss=\"alert\" aria-label=\"Close\">\n",
       "            <span aria-hidden=\"true\">&times;</span>\n",
       "          </button>\n",
       "          <div style=\"font-size:0.7em;\">Line 2: <code>sightings = pd.concat(sightings_list,axis=1)</code> </div>\n",
       "\n",
       "        </div>\n",
       "        "
      ],
      "text/plain": [
       "===== After concatenation you have duplicated column names - pay attention ===== (Line 2)"
      ]
     },
     "metadata": {},
     "output_type": "display_data"
    }
   ],
   "source": [
    "dovpanda.set_output('display')\n",
    "sightings = pd.concat(sightings_list,axis=1)"
   ]
  },
  {
   "cell_type": "markdown",
   "metadata": {},
   "source": [
    "# Suggest Hints and Tips\n",
    "If you think dovpanda missed an important hint or a tip, [let it know](https://github.com/dovpanda-dev/dovpanda/issues/new?assignees=&labels=_Hints&template=hint_proposal.md&title=%5BHINT%5D) by submitting it on github."
   ]
  }
 ],
 "metadata": {
  "kernelspec": {
   "display_name": "Python 3",
   "language": "python",
   "name": "python3"
  },
  "language_info": {
   "codemirror_mode": {
    "name": "ipython",
    "version": 3
   },
   "file_extension": ".py",
   "mimetype": "text/x-python",
   "name": "python",
   "nbconvert_exporter": "python",
   "pygments_lexer": "ipython3",
   "version": "3.7.3"
  }
 },
 "nbformat": 4,
 "nbformat_minor": 2
}
